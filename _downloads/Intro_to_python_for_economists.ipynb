{
 "cells": [
  {
   "cell_type": "markdown",
   "metadata": {},
   "source": [
    "# Introduction Python and the Jupyter Notebook\n",
    "\n",
    "This file gives an introduction to Python and the Jupyter Notebook. \n",
    "\n",
    "We assume that you have followed the [datacamp python course](https://campus.datacamp.com/courses/intro-to-python-for-data-science/chapter-1-python-basics?ex=1) so that you understand the python syntax.\n",
    "\n",
    "As datacamp does not work with the notebook, this is new to you. The main thing to remember is: _shift-enter_ evaluates a cell. A markdown-cell will be typeset and a python-cell will be evaluated if you press _shift-enter_."
   ]
  },
  {
   "cell_type": "markdown",
   "metadata": {
    "slideshow": {
     "slide_type": "subslide"
    }
   },
   "source": [
    "## Learning Python\n",
    "\n",
    "If --in addition to datacamp-- you would like to have more python resources, take a look at:\n",
    "\n",
    "* http://quant-econ.net/py/learning_python.html gives a great introduction\n",
    "* [Python for infomatics](http://www.pythonlearn.com/book.php) is a nice book; you can download it as ibook on your ipad/iphone and then it includes weblecturs\n",
    "* if you are interested, you can check out http://www.pyladies.com/about/\n",
    "* or just google on \"python tutorial\" and pick one that you like\n",
    "\n"
   ]
  },
  {
   "cell_type": "markdown",
   "metadata": {
    "slideshow": {
     "slide_type": "subslide"
    }
   },
   "source": [
    "## Markdown\n",
    "\n",
    "A big advantage of the ipython notebook is that you can typeset equations to explain what you are doing. You type in a cell, but change the dropdown menu at the top of this page from \"Code\" to \"Markdown\". \n",
    "\n",
    "There are numerous introductions to markdown on the web. See, for instance, [this on](http://daringfireball.net/projects/markdown/basics) on the basics. Google \"markdown tutorial\" and choose your favourite one.\n",
    "\n",
    "To type equations in markdown, use [latex](http://www.latex-project.org). Double click on this cell in the notebook to see how you create equations. Symbols can be put between dollar signs, like $x$, $\\alpha$, $y^2$ etc.\n",
    "\n",
    "For an equation, type\n",
    "$$\n",
    "    \\bar x = \\sum_{i=1}^n x_i\n",
    "$$\n",
    "\n",
    "There are lots of latex tutorials on the web, but mostly you can google what you want; like \"latex phi\" if you want to know how to type $\\phi$. But also \"latex empty set\", \"latex summation\", \"latex integral\" etc. Together with copying what I do, this will do for the assignments. There is no need to learn latex.\n"
   ]
  },
  {
   "cell_type": "markdown",
   "metadata": {
    "slideshow": {
     "slide_type": "slide"
    }
   },
   "source": [
    "## Some first code\n",
    "\n",
    "We start with typing some code. You can execute the code (and change it) in the notebook (but not in the html file).\n",
    "\n",
    "First, Python is a great calculator "
   ]
  },
  {
   "cell_type": "code",
   "execution_count": 1,
   "metadata": {
    "collapsed": false,
    "slideshow": {
     "slide_type": "subslide"
    }
   },
   "outputs": [
    {
     "data": {
      "text/plain": [
       "2"
      ]
     },
     "execution_count": 1,
     "metadata": {},
     "output_type": "execute_result"
    }
   ],
   "source": [
    "1+1"
   ]
  },
  {
   "cell_type": "markdown",
   "metadata": {
    "slideshow": {
     "slide_type": "fragment"
    }
   },
   "source": [
    "Now something a bit bigger:"
   ]
  },
  {
   "cell_type": "code",
   "execution_count": 2,
   "metadata": {
    "collapsed": false,
    "slideshow": {
     "slide_type": "fragment"
    }
   },
   "outputs": [
    {
     "data": {
      "text/plain": [
       "100000000000000000000L"
      ]
     },
     "execution_count": 2,
     "metadata": {},
     "output_type": "execute_result"
    }
   ],
   "source": [
    "10**20"
   ]
  },
  {
   "cell_type": "markdown",
   "metadata": {
    "slideshow": {
     "slide_type": "fragment"
    }
   },
   "source": [
    "As you note, in Python $10^{20}$ is written with \\*\\* not with ^.\n",
    "\n",
    "We can define a variable $x$"
   ]
  },
  {
   "cell_type": "code",
   "execution_count": 3,
   "metadata": {
    "collapsed": false,
    "slideshow": {
     "slide_type": "fragment"
    }
   },
   "outputs": [],
   "source": [
    "x = 10"
   ]
  },
  {
   "cell_type": "code",
   "execution_count": 4,
   "metadata": {
    "collapsed": false,
    "slideshow": {
     "slide_type": "fragment"
    }
   },
   "outputs": [
    {
     "data": {
      "text/plain": [
       "12"
      ]
     },
     "execution_count": 4,
     "metadata": {},
     "output_type": "execute_result"
    }
   ],
   "source": [
    "x+2"
   ]
  },
  {
   "cell_type": "markdown",
   "metadata": {
    "slideshow": {
     "slide_type": "subslide"
    }
   },
   "source": [
    "There are lists, tuples, dictionaries etc. From datacamp, you know what these different data types are and how they work.\n",
    "\n",
    "Let's make a graph using [matplotlib](http://matplotlib.org). Also look at the [gallery](http://matplotlib.org/gallery.html) if you want to know how to do things.\n",
    "\n",
    "First, we need to import this library:"
   ]
  },
  {
   "cell_type": "code",
   "execution_count": 5,
   "metadata": {
    "collapsed": false,
    "slideshow": {
     "slide_type": "fragment"
    }
   },
   "outputs": [
    {
     "name": "stderr",
     "output_type": "stream",
     "text": [
      "//anaconda/lib/python2.7/site-packages/matplotlib/font_manager.py:273: UserWarning: Matplotlib is building the font cache using fc-list. This may take a moment.\n",
      "  warnings.warn('Matplotlib is building the font cache using fc-list. This may take a moment.')\n"
     ]
    }
   ],
   "source": [
    "import matplotlib.pyplot as plt\n",
    "%matplotlib inline"
   ]
  },
  {
   "cell_type": "markdown",
   "metadata": {
    "slideshow": {
     "slide_type": "fragment"
    }
   },
   "source": [
    "The first line says that we import matplotlib as \"plt\". Hence statements referring to this start with \"plt\", as you will see in a second. The second statement makes sure that we can see the graphs in the notebook as we make them.\n",
    "\n",
    "Let's define a function that we all know, so that we understand what we are drawing."
   ]
  },
  {
   "cell_type": "code",
   "execution_count": 6,
   "metadata": {
    "collapsed": false,
    "slideshow": {
     "slide_type": "subslide"
    }
   },
   "outputs": [],
   "source": [
    "def my_first_function(x):\n",
    "    return x**2"
   ]
  },
  {
   "cell_type": "code",
   "execution_count": 7,
   "metadata": {
    "collapsed": false,
    "slideshow": {
     "slide_type": "fragment"
    }
   },
   "outputs": [
    {
     "data": {
      "text/plain": [
       "16"
      ]
     },
     "execution_count": 7,
     "metadata": {},
     "output_type": "execute_result"
    }
   ],
   "source": [
    "my_first_function(4)"
   ]
  },
  {
   "cell_type": "markdown",
   "metadata": {
    "slideshow": {
     "slide_type": "fragment"
    }
   },
   "source": [
    "Well, that works. Note that when you type \"my_\" you can press the \"tab\" key to get auto-completion. Saves a bit of time when typing; and you cannot accidently type the wrong name which leads to an error lateron.\n",
    "\n",
    "Before we can plot this function, we define for which values of $x$ we want to view this function. This is most easily done with the arange statement from scipy:"
   ]
  },
  {
   "cell_type": "code",
   "execution_count": 8,
   "metadata": {
    "collapsed": false,
    "slideshow": {
     "slide_type": "fragment"
    }
   },
   "outputs": [
    {
     "name": "stdout",
     "output_type": "stream",
     "text": [
      "[ -2.00000000e+00  -1.90000000e+00  -1.80000000e+00  -1.70000000e+00\n",
      "  -1.60000000e+00  -1.50000000e+00  -1.40000000e+00  -1.30000000e+00\n",
      "  -1.20000000e+00  -1.10000000e+00  -1.00000000e+00  -9.00000000e-01\n",
      "  -8.00000000e-01  -7.00000000e-01  -6.00000000e-01  -5.00000000e-01\n",
      "  -4.00000000e-01  -3.00000000e-01  -2.00000000e-01  -1.00000000e-01\n",
      "   1.77635684e-15   1.00000000e-01   2.00000000e-01   3.00000000e-01\n",
      "   4.00000000e-01   5.00000000e-01   6.00000000e-01   7.00000000e-01\n",
      "   8.00000000e-01   9.00000000e-01   1.00000000e+00   1.10000000e+00\n",
      "   1.20000000e+00   1.30000000e+00   1.40000000e+00   1.50000000e+00\n",
      "   1.60000000e+00   1.70000000e+00   1.80000000e+00   1.90000000e+00\n",
      "   2.00000000e+00]\n"
     ]
    }
   ],
   "source": [
    "from scipy import arange\n",
    "\n",
    "range_x = arange(-2.0,2.1,0.1)\n",
    "print range_x"
   ]
  },
  {
   "cell_type": "markdown",
   "metadata": {
    "slideshow": {
     "slide_type": "fragment"
    }
   },
   "source": [
    "Hence, \"arange\" creates an array starting at $-2.0$ going up to --but not including-- $2.1$ with steps $0.1$. Note the scientific notation with $e-01$. Finally, we are doing numerical stuff here, so $0$ looks \"a bit odd\".\n",
    "\n",
    "Now we create a range of $y$-values that we want to draw. See how elegantly you define this new list of numbers:"
   ]
  },
  {
   "cell_type": "code",
   "execution_count": 9,
   "metadata": {
    "collapsed": false,
    "slideshow": {
     "slide_type": "fragment"
    }
   },
   "outputs": [
    {
     "name": "stdout",
     "output_type": "stream",
     "text": [
      "[4.0, 3.6099999999999999, 3.2399999999999993, 2.8899999999999992, 2.5599999999999987, 2.2499999999999987, 1.9599999999999984, 1.6899999999999984, 1.4399999999999984, 1.2099999999999982, 0.99999999999999822, 0.80999999999999828, 0.63999999999999835, 0.48999999999999838, 0.35999999999999849, 0.24999999999999867, 0.15999999999999887, 0.089999999999999095, 0.039999999999999362, 0.0099999999999996619, 3.1554436208840472e-30, 0.010000000000000373, 0.040000000000000785, 0.090000000000001232, 0.1600000000000017, 0.25000000000000222, 0.36000000000000276, 0.49000000000000338, 0.64000000000000401, 0.81000000000000461, 1.0000000000000053, 1.210000000000006, 1.4400000000000068, 1.6900000000000077, 1.9600000000000084, 2.2500000000000093, 2.5600000000000103, 2.8900000000000112, 3.2400000000000122, 3.6100000000000132, 4.0000000000000142]\n"
     ]
    }
   ],
   "source": [
    "range_y = [my_first_function(x) for x in range_x]\n",
    "print range_y"
   ]
  },
  {
   "cell_type": "markdown",
   "metadata": {
    "slideshow": {
     "slide_type": "subslide"
    }
   },
   "source": [
    "As we are working numerically here, some numbers look a bit strange. But when we plot it later on, it will look familiar again. If you want to look at one element in this list, type"
   ]
  },
  {
   "cell_type": "code",
   "execution_count": 10,
   "metadata": {
    "collapsed": false,
    "slideshow": {
     "slide_type": "fragment"
    }
   },
   "outputs": [
    {
     "data": {
      "text/plain": [
       "4.0"
      ]
     },
     "execution_count": 10,
     "metadata": {},
     "output_type": "execute_result"
    }
   ],
   "source": [
    "range_y[0]"
   ]
  },
  {
   "cell_type": "markdown",
   "metadata": {
    "slideshow": {
     "slide_type": "fragment"
    }
   },
   "source": [
    "Note that Python starts counting at $0$. That also means that:"
   ]
  },
  {
   "cell_type": "code",
   "execution_count": 11,
   "metadata": {
    "collapsed": false,
    "slideshow": {
     "slide_type": "fragment"
    }
   },
   "outputs": [
    {
     "ename": "IndexError",
     "evalue": "list index out of range",
     "output_type": "error",
     "traceback": [
      "\u001b[0;31m---------------------------------------------------------------------------\u001b[0m",
      "\u001b[0;31mIndexError\u001b[0m                                Traceback (most recent call last)",
      "\u001b[0;32m<ipython-input-11-366258d81fe1>\u001b[0m in \u001b[0;36m<module>\u001b[0;34m()\u001b[0m\n\u001b[0;32m----> 1\u001b[0;31m \u001b[0mrange_y\u001b[0m\u001b[0;34m[\u001b[0m\u001b[0;36m41\u001b[0m\u001b[0;34m]\u001b[0m\u001b[0;34m\u001b[0m\u001b[0m\n\u001b[0m",
      "\u001b[0;31mIndexError\u001b[0m: list index out of range"
     ]
    }
   ],
   "source": [
    "range_y[41]"
   ]
  },
  {
   "cell_type": "markdown",
   "metadata": {
    "slideshow": {
     "slide_type": "subslide"
    }
   },
   "source": [
    "If you get an error like this, simply google \"python list index out of range\": you are not the first to encounter this problem..."
   ]
  },
  {
   "cell_type": "markdown",
   "metadata": {
    "slideshow": {
     "slide_type": "fragment"
    }
   },
   "source": [
    "Lists have other properties that you may not expect. For instance, although they may look like vectors to you, they are not:"
   ]
  },
  {
   "cell_type": "code",
   "execution_count": 12,
   "metadata": {
    "collapsed": false,
    "slideshow": {
     "slide_type": "fragment"
    }
   },
   "outputs": [
    {
     "ename": "TypeError",
     "evalue": "unsupported operand type(s) for -: 'list' and 'list'",
     "output_type": "error",
     "traceback": [
      "\u001b[0;31m---------------------------------------------------------------------------\u001b[0m",
      "\u001b[0;31mTypeError\u001b[0m                                 Traceback (most recent call last)",
      "\u001b[0;32m<ipython-input-12-1683f32e17a9>\u001b[0m in \u001b[0;36m<module>\u001b[0;34m()\u001b[0m\n\u001b[0;32m----> 1\u001b[0;31m \u001b[0;34m[\u001b[0m\u001b[0;36m5\u001b[0m\u001b[0;34m,\u001b[0m\u001b[0;36m6\u001b[0m\u001b[0;34m,\u001b[0m\u001b[0;36m7\u001b[0m\u001b[0;34m]\u001b[0m\u001b[0;34m-\u001b[0m\u001b[0;34m[\u001b[0m\u001b[0;36m1\u001b[0m\u001b[0;34m,\u001b[0m\u001b[0;36m1\u001b[0m\u001b[0;34m,\u001b[0m\u001b[0;36m1\u001b[0m\u001b[0;34m]\u001b[0m\u001b[0;34m\u001b[0m\u001b[0m\n\u001b[0m",
      "\u001b[0;31mTypeError\u001b[0m: unsupported operand type(s) for -: 'list' and 'list'"
     ]
    }
   ],
   "source": [
    "[5,6,7]-[1,1,1]"
   ]
  },
  {
   "cell_type": "markdown",
   "metadata": {
    "slideshow": {
     "slide_type": "fragment"
    }
   },
   "source": [
    "Hence you get an error. There are a number of solutions to this. Again google something like \"python subtract lists\" to see what other people have tried. Note that whereas I thought of $[5,6,7]-[1,1,1]$ as a vector operation, others see it as a set operation. What is the difference?\n",
    "\n",
    "In order to work with lists as vectors, I tend to use "
   ]
  },
  {
   "cell_type": "code",
   "execution_count": 13,
   "metadata": {
    "collapsed": false,
    "slideshow": {
     "slide_type": "fragment"
    }
   },
   "outputs": [
    {
     "name": "stdout",
     "output_type": "stream",
     "text": [
      "[4 5 6]\n"
     ]
    }
   ],
   "source": [
    "from numpy import array\n",
    "print array([5,6,7])-array([1,1,1])"
   ]
  },
  {
   "cell_type": "markdown",
   "metadata": {
    "slideshow": {
     "slide_type": "subslide"
    }
   },
   "source": [
    "Back to our graph, here is how you plot and save it:"
   ]
  },
  {
   "cell_type": "code",
   "execution_count": 14,
   "metadata": {
    "collapsed": false,
    "slideshow": {
     "slide_type": "fragment"
    }
   },
   "outputs": [
    {
     "data": {
      "image/png": "[encoded data removed]",
      "text/plain": [
       "<matplotlib.figure.Figure at 0x10efb3550>"
      ]
     },
     "metadata": {},
     "output_type": "display_data"
    }
   ],
   "source": [
    "plt.clf() # starts a new graph\n",
    "plt.plot(range_x, range_y,'-', color = 'b', linewidth = 2) # play around with colors like 'r', or styles like '--'\n",
    "plt.title(\"Parabola\",fontsize = 15)\n",
    "plt.xlabel(\"$x$\",fontsize = 15)\n",
    "plt.ylabel(\"$y$\",fontsize = 15)\n",
    "plt.xlim(-2.0,2.0)\n",
    "plt.ylim(0.0,4.0)\n",
    "plt.annotate('$y=x^2$', xy=(1.0,my_first_function(1.0)),  xycoords='data',\n",
    "              xytext=(-60, 60), textcoords='offset points', size = 20,\n",
    "              arrowprops=dict(arrowstyle=\"->\", linewidth = 2,\n",
    "                              connectionstyle=\"arc3,rad=.2\"),\n",
    "              )\n",
    "\n",
    "plt.savefig('my_first_graph.png')"
   ]
  },
  {
   "cell_type": "markdown",
   "metadata": {},
   "source": [
    "# Two math tools for economists\n",
    "\n",
    "Slightly unfairly one could say that economics needs (only) two tools:\n",
    "\n",
    "* maximization\n",
    "* equilibrium\n",
    "\n",
    "Hence, we need to understand how to do these in python!\n",
    "\n",
    "We usually analyze agents maximizing utility, firms maximizing profits and regulators/planners maximizing welfare. Hence, we give an introduction to optimization in python by providing examples and references where you can look for more.\n",
    "\n",
    "When more than one agent/firm/planner interacts, we derive the equilibrium. Equilibrium is a fixed point --in terms of reaction functions-- and hence we also introduce a number of solvers.\n",
    "\n",
    "There are number of optimization routines and solvers for python. For our course, it is sufficient to work with the optimize library from [scipy](http://docs.scipy.org/doc/scipy/reference/optimize.html). You can use the documentation at this site or google \"scipy fsolve\" to find examples that you can copy and adapt to your purposes.\n",
    "\n",
    "If, at some point, you need other solvers/maximizers, you can take a look at [this website](http://www.scipy.org/topical-software.html) for an overview of scientific tools for python.\n",
    "\n",
    "First, we import the relevant libraries. Numpy and scipy are math libraries for python. We import matplotlib to create figures which will be displayed in the notebook because of `%matplotlib inline`."
   ]
  },
  {
   "cell_type": "code",
   "execution_count": 15,
   "metadata": {
    "collapsed": false
   },
   "outputs": [],
   "source": [
    "from scipy import optimize,arange\n",
    "from numpy import array\n",
    "import matplotlib.pyplot as plt\n",
    "%matplotlib inline"
   ]
  },
  {
   "cell_type": "markdown",
   "metadata": {},
   "source": [
    "## I.O. example\n",
    "\n",
    "We use the following example from industrial organization (I.O.). Firms operating in a market, maximizing profits. We first look at the monopoly problem, where we focus on profit maximization (as equilibrium is no issue here). \n",
    "\n",
    "Then we look at the case with two or more firms, where we both maximize profits and find an equilibrium.\n",
    "\n",
    "In all the examples, we work with a linear demand curve $p(Q)=1-Q$ and costs $c(q)=c_i q$, where $Q$ denotes total output on the market and $q$ the output level of one firm. For a monopolist, we obviously have $q=Q$.\n"
   ]
  },
  {
   "cell_type": "code",
   "execution_count": 16,
   "metadata": {
    "collapsed": true
   },
   "outputs": [],
   "source": [
    "def demand(Q):\n",
    "    return 1-Q\n",
    "\n",
    "def cost(q,c):  # c is constant marginal cost\n",
    "    return c*q\n"
   ]
  },
  {
   "cell_type": "markdown",
   "metadata": {},
   "source": [
    "### Monopoly\n",
    "\n",
    "Monopoly profits are given by $\\pi(q) = (1-q)q-cq$. When we solve this analytically, we take the first order condition: $1-2q-c=0$ and hence $q = (1-c)/2$. Hence, for $c=0$, we find $q=0.5$.\n",
    "\n",
    "Indeed, we can use a solver like `fsolve` to find this outcome. With $c=0$, `fsolve` finds the solution to $1-2q=0$. We use a lambda-function to define this (rather simple) equation:\n"
   ]
  },
  {
   "cell_type": "code",
   "execution_count": 17,
   "metadata": {
    "collapsed": false
   },
   "outputs": [
    {
     "name": "stdout",
     "output_type": "stream",
     "text": [
      "[ 0.5]\n"
     ]
    }
   ],
   "source": [
    "output = optimize.fsolve(lambda q: 1-2*q, 0)\n",
    "print output"
   ]
  },
  {
   "cell_type": "markdown",
   "metadata": {},
   "source": [
    "`fsolve` needs a function (here the lambda-function) and an initial guess for the solution (here we start from $q = 0$)."
   ]
  },
  {
   "cell_type": "markdown",
   "metadata": {},
   "source": [
    "But we can also use maximization directly. Scipy has only minimization routines, hence to maximize profits $\\pi(q)$, we need to minimize negative profits $-\\pi(q)$. For this we can use a local optimizer like `fmin`."
   ]
  },
  {
   "cell_type": "code",
   "execution_count": 18,
   "metadata": {
    "collapsed": false
   },
   "outputs": [
    {
     "name": "stdout",
     "output_type": "stream",
     "text": [
      "Optimization terminated successfully.\n",
      "         Current function value: -0.250000\n",
      "         Iterations: 23\n",
      "         Function evaluations: 46\n",
      "[ 0.5]\n"
     ]
    }
   ],
   "source": [
    "def minus_profits(q,*args):         # we want to see profits as a function of q when we maximize profits or\n",
    "    return -(demand(q)*q-cost(q,c)) # minimize minus_profits; hence c is specified as \"*args\", when calling fmin\n",
    "                                    # we specify the c in the \"args=(c,)\"\n",
    "x0 = 0\n",
    "c = 0.0\n",
    "output = optimize.fmin(minus_profits,x0,args=(c,)) # note the comma in \"args(c,)\"; it needs to be there!\n",
    "print output"
   ]
  },
  {
   "cell_type": "markdown",
   "metadata": {},
   "source": [
    "Hence the optimal output value equals 0.5 (as we found above). Profits at this optimal output level equal 0.25 (that is $-$`minus_profits`$=0.25$).\n",
    "\n",
    "As an alternative, you can also use a global optimizer like `brute`. It uses the following syntax. It does not require an initial guess but a range in which to look for the optimum, here the range $(0.0,1.0)$. The answer is close enough to 0.5."
   ]
  },
  {
   "cell_type": "code",
   "execution_count": 19,
   "metadata": {
    "collapsed": false
   },
   "outputs": [
    {
     "name": "stdout",
     "output_type": "stream",
     "text": [
      "[ 0.49995888]\n"
     ]
    }
   ],
   "source": [
    "c = 0.0\n",
    "output = optimize.brute(minus_profits,((0.0,1.0),),args=(c,)) \n",
    "print output"
   ]
  },
  {
   "cell_type": "markdown",
   "metadata": {},
   "source": [
    "### Duopoly\n",
    "\n",
    "In a duopoly in this set-up, we have firms 1 and 2 producing perfect substitutes. Output level of firm $i$ is denoted $q_i$. Firm $i$'s profit is written as $\\pi(q_i,q_j)=(1-q_i-q_j)q_i-c_i q_i$ for $j \\neq i$. The way we usually solve this analytically is as follows.\n",
    "\n",
    "The two first order conditions for firms 1 and 2 can be written as:\n",
    "\n",
    "$$\n",
    "1-2q_1-q_2-c_1 = 0\n",
    "$$\n",
    "\n",
    "and\n",
    "\n",
    "$$\n",
    "1-2q_2-q_1-c_2 = 0\n",
    "$$\n",
    "\n",
    "Then we can solve these two equations in the unknowns $q_1,q_2$. However, we usually take a step in between and define the reaction functions. That is, we solve the optimal $q_i$ as a function of $q_j$:\n",
    "\n",
    "$$\n",
    "q_i = \\frac{1}{2}(1-c_i-q_j)\n",
    "$$\n",
    "\n",
    "Or defining $i$'s reaction function as \n",
    "\n",
    "$$\n",
    "R_i(q_j) = \\frac{1}{2}(1-c_i-q_j)\n",
    "$$\n",
    "\n",
    "We have an equilibrium if $q_1 = R_1(q_2)$ and $q_2 = R_2(q_1)$. We can plot the reaction functions to give the following well-known figure.\n",
    "\n"
   ]
  },
  {
   "cell_type": "code",
   "execution_count": 20,
   "metadata": {
    "collapsed": false
   },
   "outputs": [
    {
     "data": {
      "image/png": "[encoded data removed]",
      "text/plain": [
       "<matplotlib.figure.Figure at 0x113133b90>"
      ]
     },
     "metadata": {},
     "output_type": "display_data"
    }
   ],
   "source": [
    "def reaction_function(q_other,c):\n",
    "    return 0.5*(1-c-q_other)\n",
    "\n",
    "c_1 = 0.0\n",
    "c_2 = 0.0\n",
    "\n",
    "range_q = arange(0.0,1.01,0.01)\n",
    "range_reaction_1 = [reaction_function(q_2,c_1) for q_2 in range_q]\n",
    "range_reaction_2 = [reaction_function(q_1,c_2) for q_1 in range_q]\n",
    "\n",
    "plt.clf()\n",
    "plt.plot(range_q, range_reaction_2,'-', color = 'r', linewidth = 2)\n",
    "plt.plot(range_reaction_1, range_q,'-', color = 'b', linewidth = 2)\n",
    "plt.title(\"Equilibrium\",fontsize = 15)\n",
    "plt.xlabel(\"$q_1$\",fontsize = 15)\n",
    "plt.ylabel(\"$q_2$\",fontsize = 15,rotation = 90)\n",
    "plt.annotate('$R_2(q_1)$', xy=(0.6,reaction_function(0.6,c_2)),  xycoords='data', # here we define the labels and arrows in the graph\n",
    "              xytext=(30, 50), textcoords='offset points', size = 20,\n",
    "              arrowprops=dict(arrowstyle=\"->\", linewidth = 2,\n",
    "                              connectionstyle=\"arc3,rad=.2\"),\n",
    "              )\n",
    "plt.annotate('$R_1(q_2)$', xy=(reaction_function(0.6,c_1),0.6),  xycoords='data', # here we define the labels and arrows in the graph\n",
    "              xytext=(30, 50), textcoords='offset points', size = 20,\n",
    "              arrowprops=dict(arrowstyle=\"->\", linewidth = 2,\n",
    "                              connectionstyle=\"arc3,rad=.2\"),\n",
    "              )\n",
    "\n",
    "\n",
    "\n",
    "\n",
    "# plt.xlim(c,1.0)\n",
    "# plt.ylim(0.0,0.3)\n",
    "plt.savefig('cournot_equilibrium.png')"
   ]
  },
  {
   "cell_type": "markdown",
   "metadata": {},
   "source": [
    "The equilibrium is given by $q_1,q_2$ such that\n",
    "\n",
    "$$\n",
    "\\begin{pmatrix} q_1\\\\ q_2\\end{pmatrix} = \\begin{pmatrix} R_1(q_2)\\\\ R_2(q_1)\\end{pmatrix}\n",
    "$$\n",
    "\n",
    "If both have the same costs, the symmetric equilibrium is given by $q=R(q)$.\n"
   ]
  },
  {
   "cell_type": "markdown",
   "metadata": {},
   "source": [
    "Instead of using the first order condition for $q_i$, we can directly find the optimum using `fmin` as we did above.\n",
    "\n",
    "Let's redo the figure with the reaction functions, now using `fmin`. Note that instead of using `*args`, we use a lambda function here. Both approaches are fine, use the one you like best."
   ]
  },
  {
   "cell_type": "code",
   "execution_count": 21,
   "metadata": {
    "collapsed": false
   },
   "outputs": [
    {
     "data": {
      "image/png": "[encoded data removed]",
      "text/plain": [
       "<matplotlib.figure.Figure at 0x1133bb290>"
      ]
     },
     "metadata": {},
     "output_type": "display_data"
    }
   ],
   "source": [
    "def minus_duopoly_profits(q,q_other,c):\n",
    "    return -(demand(q+q_other)*q-cost(q,c)) \n",
    "\n",
    "\n",
    "def new_reaction_function(q_other,c):\n",
    "    x0 = 0\n",
    "    output = optimize.fmin(lambda q: minus_duopoly_profits(q,q_other,c),x0,disp = False) # disp = False reduces \n",
    "    return output[0]                                                                     # the output of the routine\n",
    "                                                                                         # disp = True shows the difference\n",
    "c_1 = 0.0\n",
    "c_2 = 0.0\n",
    "\n",
    "range_q = arange(0.0,1.01,0.01)\n",
    "range_reaction_1 = [new_reaction_function(q_2,c_1) for q_2 in range_q]\n",
    "range_reaction_2 = [new_reaction_function(q_1,c_2) for q_1 in range_q]\n",
    "\n",
    "plt.clf()\n",
    "plt.plot(range_q, range_reaction_2,'-', color = 'r', linewidth = 2)\n",
    "plt.plot(range_reaction_1, range_q,'-', color = 'b', linewidth = 2)\n",
    "plt.title(\"Equilibrium\",fontsize = 15)\n",
    "plt.xlabel(\"$q_1$\",fontsize = 15)\n",
    "plt.ylabel(\"$q_2$\",fontsize = 15,rotation = 90)\n",
    "plt.annotate('$R_2(q_1)$', xy=(0.6,reaction_function(0.6,c_2)),  xycoords='data', # here we define the labels and arrows in the graph\n",
    "              xytext=(30, 50), textcoords='offset points', size = 20,\n",
    "              arrowprops=dict(arrowstyle=\"->\", linewidth = 2,\n",
    "                              connectionstyle=\"arc3,rad=.2\"),\n",
    "              )\n",
    "plt.annotate('$R_1(q_2)$', xy=(reaction_function(0.6,c_1),0.6),  xycoords='data', # here we define the labels and arrows in the graph\n",
    "              xytext=(30, 50), textcoords='offset points', size = 20,\n",
    "              arrowprops=dict(arrowstyle=\"->\", linewidth = 2,\n",
    "                              connectionstyle=\"arc3,rad=.2\"),\n",
    "              )\n",
    "\n",
    "\n",
    "\n",
    "\n",
    "# plt.xlim(c,1.0)\n",
    "# plt.ylim(0.0,0.3)\n",
    "plt.savefig('cournot_equilibrium2.png')"
   ]
  },
  {
   "cell_type": "markdown",
   "metadata": {},
   "source": [
    "To calculate the equilibrium, we need to find a so called fixed point of the vector function $R(q)$. This can be seen as follows.\n",
    "\n",
    "Define the function (or mapping) $q \\rightarrow R(q)$ with $q \\in \\Re^2$ and \n",
    "\n",
    "$$\n",
    "R(q) = \\begin{pmatrix} R_1(q_2)\\\\ R_2(q_1)\\end{pmatrix}\n",
    "$$\n",
    "\n",
    "A fixed point of this function is defined as a vector $q$ such that $q=R(q)$. In words, $q_1$ is the optimal reaction to $q_2$ and $q_2$ is the optimal reaction to $q_1$. That is, the vector $q$ is a Nash equilibrium. Each firm $i$ chooses its optimal output level $q_i$, given the choice by the other firm $q_j$.\n"
   ]
  },
  {
   "cell_type": "code",
   "execution_count": 22,
   "metadata": {
    "collapsed": true
   },
   "outputs": [],
   "source": [
    "def vector_reaction_function(q,c): # q is a vector (or list in python) here\n",
    "    x0 = 0\n",
    "    output_1 = optimize.fmin(lambda q1: minus_duopoly_profits(q1,q[1],c[0]),x0,disp = False)\n",
    "    output_2 = optimize.fmin(lambda q2: minus_duopoly_profits(q2,q[0],c[1]),x0,disp = False)\n",
    "    return [output_1[0],output_2[0]]   "
   ]
  },
  {
   "cell_type": "code",
   "execution_count": 23,
   "metadata": {
    "collapsed": false
   },
   "outputs": [
    {
     "data": {
      "text/plain": [
       "array([ 0.3333125,  0.3333125])"
      ]
     },
     "execution_count": 23,
     "metadata": {},
     "output_type": "execute_result"
    }
   ],
   "source": [
    "c = [0.0,0.0]\n",
    "optimize.fsolve(lambda q: q-vector_reaction_function(q,c), [0,0])\n"
   ]
  },
  {
   "cell_type": "markdown",
   "metadata": {},
   "source": [
    "### $n$ firms\n",
    "\n",
    "\n",
    "Now we want to write the functions in such a way that we can calculate the equilibrium for $n$ firms in the market."
   ]
  },
  {
   "cell_type": "code",
   "execution_count": 24,
   "metadata": {
    "collapsed": false
   },
   "outputs": [],
   "source": [
    "def n_reaction_function(q,c): # q is a vector (or list in python) here\n",
    "    n = len(q) # number of firms\n",
    "    firms = range(n) # create a list with n firm identities (0,1,...,n-1)\n",
    "    x0 = 0 # initial guess for a firm's optimal output level --given what the others do\n",
    "    total_output = sum(q)\n",
    "    output = [] # we create an empty list of optimal reactions `output`, and add the optimal reaction of each firm to it\n",
    "    for firm in firms: # we use the duopoly profits with q_other = \\sum_{j \\neq i} q_j = \\sum_{j} q_j - q_i\n",
    "        output.append(optimize.fmin(lambda x: minus_duopoly_profits(x,total_output-q[firm],c[firm]),x0,disp = False)[0])\n",
    "    return output"
   ]
  },
  {
   "cell_type": "code",
   "execution_count": 25,
   "metadata": {
    "collapsed": false
   },
   "outputs": [
    {
     "data": {
      "text/plain": [
       "array([ 0.2,  0.2,  0.2,  0.2])"
      ]
     },
     "execution_count": 25,
     "metadata": {},
     "output_type": "execute_result"
    }
   ],
   "source": [
    "c = [0.0,0.0,0.0,0.0] # consider the case with 4 firms in the market each with c = 0\n",
    "optimize.fsolve(lambda q: q-n_reaction_function(q,c), [0,0,0,0])\n"
   ]
  },
  {
   "cell_type": "markdown",
   "metadata": {},
   "source": [
    "Cournot-Nash equilibrium with 4 firms with zero marginal costs is that each firm produces $q=1/5$."
   ]
  },
  {
   "cell_type": "markdown",
   "metadata": {
    "collapsed": false
   },
   "source": [
    "# Price discrimination\n",
    "\n",
    "As a more complicated example, let's consider a price discrimination problem.\n",
    "\n",
    "We consider here the situation where price discrimination happens without observable information. That is, this example is not about discounts for students or pensioners (which is observable). \n",
    "\n",
    "Consumers differ in type in a way that the firm cannot directly observe. Think of mobile phones: your provider cannot observe --when you are taking out a subscription-- whether you will phone a lot or only little, how much internet access you would like to have etc.\n",
    "\n",
    "Hence, the firm offers a menu of choices, each choice is meant for a different type.\n",
    "\n",
    "Some regulators --like the European Commission-- do not like price discrimination. Hence, we will also consider the welfare effects of price discrimination. Is welfare increased if price discrimination is abolished?\n",
    "\n"
   ]
  },
  {
   "cell_type": "markdown",
   "metadata": {},
   "source": [
    "## utility and costs\n",
    "\n",
    "Assume that a consumer of type $n$ derives utility $u(q,t,n) = nq-t$ from consuming a quality $q$ product at price $t$. The cost of producing quality $q$ is given by $c(q)=0.5q^2$.\n",
    "\n",
    "Assume that there are two types of consumers $n_a > 0$ and $n_b > n_a$, where the fraction of $n_a$ consumers is given by $\\phi \\in [0,1]$.\n",
    "\n",
    "The firm creates two versions of the product: quality $q_a$ and $q_b$ at price $t_a,t_b$ resp. If each type buys the version created for this type (we will have constraints to ensure this), profits $\\pi$ and total welfare $W$ are given by\n",
    "\n",
    "$$\n",
    "\\begin{split}\n",
    "\\pi & = \\phi (t_a - 0.5q_a^2)+(1-\\phi)(t_b - 0.5q_b^2)   \\\\\n",
    "W &= \\phi (n_a q_a - 0.5q_a^2)+(1-\\phi)(n_b q_b - 0.5q_b^2)\n",
    "\\end{split}\n",
    "$$\n",
    "\n",
    "Hence, the efficient (welfare maximizing) quality levels satisfy $q_i^* = n_i$. \n"
   ]
  },
  {
   "cell_type": "code",
   "execution_count": 26,
   "metadata": {
    "collapsed": false
   },
   "outputs": [
    {
     "name": "stdout",
     "output_type": "stream",
     "text": [
      "Welfare maximizing qualities are given by:  0.5 ,  1.0\n"
     ]
    }
   ],
   "source": [
    "def u(q,t,n):\n",
    "    return n*q-t\n",
    "\n",
    "def c(q):\n",
    "    return 0.5*q**2\n",
    "\n",
    "def buy(q,t,n): # buy = 1 if type n buys (q,t) and buy = 0 if n does not buy\n",
    "    if u(q,t,n) < 0:\n",
    "        buy = 0\n",
    "    else:\n",
    "        buy = 1\n",
    "    return buy\n",
    "\n",
    "na = 0.5\n",
    "nb = 1.0\n",
    "\n",
    "qa_fb = optimize.minimize_scalar(lambda x: -u(x,c(x),na)).x # the x-attribute of optimize.minimize_scalar gives the value\n",
    "qb_fb = optimize.minimize_scalar(lambda x: -u(x,c(x),nb)).x # for which the function is minimized\n",
    "\n",
    "print \"Welfare maximizing qualities are given by: \", qa_fb, \", \", qb_fb\n",
    "\n",
    "def profit(qa,ta,qb,tb,phi): # these are first best profits: no IC constraints\n",
    "    return phi*buy(qa,ta,na)*(ta-c(qa))+(1-phi)*buy(qb,tb,nb)*(tb-c(qb))\n",
    "\n",
    "def welfare(qa,ta,qb,tb,phi):\n",
    "    return phi*buy(qa,ta,na)*(u(qa,ta,na)+ta-c(qa))+(1-phi)*buy(qb,tb,nb)*(u(qb,tb,nb)+tb-c(qb))"
   ]
  },
  {
   "cell_type": "markdown",
   "metadata": {},
   "source": [
    "## no discrimination\n",
    "\n",
    "First, we consider the case where the firm cannot price discriminate: $q_a=q_b=q$ and $t_a=t_b=t$.\n",
    "\n",
    "The firm has two choices: \n",
    "\n",
    "* set $t$ such that $u(q,t,n_a)=0$ and sell to both consumer types\n",
    "* set $t$ such that $u(q,t,n_b)=0$ and sell to type $n_b$ only\n",
    "\n",
    "When $\\phi = 0.5$, profits are maximized by setting $q=1$ and selling to $n_b$ only:"
   ]
  },
  {
   "cell_type": "code",
   "execution_count": 27,
   "metadata": {
    "collapsed": false
   },
   "outputs": [
    {
     "data": {
      "image/png": "[encoded data removed]",
      "text/plain": [
       "<matplotlib.figure.Figure at 0x1134e6750>"
      ]
     },
     "metadata": {},
     "output_type": "display_data"
    }
   ],
   "source": [
    "range_q = arange(0.0,1.51,0.01)\n",
    "phi = 0.5\n",
    "range_profits_a = [profit(q,na*q,q,na*q,phi) for q in range_q]\n",
    "range_profits_b = [profit(q,nb*q,q,nb*q,phi) for q in range_q]\n",
    "\n",
    "plt.clf()\n",
    " \n",
    "plt.plot(range_q, range_profits_a,'-', color = 'r', linewidth = 2)\n",
    "plt.plot(range_q, range_profits_b,'-', color = 'b', linewidth = 2)\n",
    "plt.title(\"no price discrimination\",fontsize = 15)\n",
    "plt.xlabel(\"$q$\",fontsize = 15)\n",
    "plt.ylabel(\"$\\pi$\",fontsize = 15,rotation = 90)\n",
    "#plt.xlim(0.0,1.0)\n",
    "#plt.ylim(0.0,1.0)\n",
    "plt.savefig('no_price_discrimination.png')"
   ]
  },
  {
   "cell_type": "markdown",
   "metadata": {},
   "source": [
    "The following function determines the optimal $q$ and $t$ set by the firm in case of non-discrimination. As suggested by the figure, $\\phi=0.5$ implies that $q=1$ and with $t=1$ only type $n_b$ buys the product."
   ]
  },
  {
   "cell_type": "code",
   "execution_count": 28,
   "metadata": {
    "collapsed": false
   },
   "outputs": [
    {
     "name": "stdout",
     "output_type": "stream",
     "text": [
      "optimal quality and price are given by: [0.99999999999999989, 0.99999999999999989]\n"
     ]
    }
   ],
   "source": [
    "def quality_non_discr(phi):\n",
    "    qa = optimize.fminbound(lambda x: -profit(x,na*x,x,na*x,phi),0,2)\n",
    "    qb = optimize.fminbound(lambda x: -profit(x,nb*x,x,nb*x,phi),0,2)\n",
    "    if profit(qa,na*qa,qa,na*qa,phi) >= profit(qb,nb*qb,qb,nb*qb,phi):\n",
    "        quality = qa\n",
    "        t = u(qa,0,na)\n",
    "    else:\n",
    "        quality = qb\n",
    "        t = u(qb,0,nb)\n",
    "    return [quality,t]\n",
    "\n",
    "print \"optimal quality and price are given by:\", quality_non_discr(0.5)\n",
    "    \n",
    "    "
   ]
  },
  {
   "cell_type": "markdown",
   "metadata": {},
   "source": [
    "## price discrimination\n",
    "\n",
    "When the firm can price discriminate, it needs to take 4 constraints into account:\n",
    "\n",
    "* two Individual Rationality (IR) constraints:\n",
    "\n",
    "$$\n",
    "\\begin{split}\n",
    "u(q_a,t_a,n_a) &\\geq 0 \\\\\n",
    "u(q_b,t_b,n_b) &\\geq 0\n",
    "\\end{split}\n",
    "$$\n",
    "\n",
    "* two incentive compatibility (IC) constraints:\n",
    "\n",
    "$$\n",
    "\\begin{split}\n",
    "u(q_a,t_a,n_a) &\\geq u(q_b,t_b,n_a) \\\\\n",
    "u(q_b,t_b,n_b) &\\geq u(q_a,t_a,n_b)\n",
    "\\end{split}\n",
    "$$\n",
    "\n",
    "\n",
    "The IR constraints make sure that both types want to buy at all. The IC constraints make sure that types buy the \"right\" product (i.e. the product meant for them).\n",
    "\n",
    "In a case as this, with $n_b > n_a$, $IR_a$ and $IC_b$ are binding --don't worry if you do not know this. Hence, $t_a = n_a q_a$ and $t_b = n_b q_b - (n_b-n_a)q_a$.\n",
    "\n",
    "Further, we know that $q_b = q_b^*$: first best quality for the highest type (\"no distortion at the top\"). \n",
    "\n",
    "Quality $q_a$ then solves\n",
    "\n",
    "$$\n",
    "\\max_q \\phi(n_a q -c(q))+(1-\\phi)(n_b q_b^* - (n_b-n_a)q - c(q_b^*))\n",
    "$$\n"
   ]
  },
  {
   "cell_type": "code",
   "execution_count": 29,
   "metadata": {
    "collapsed": false
   },
   "outputs": [],
   "source": [
    "def quality_discr(phi):\n",
    "    nh = max(na,nb)\n",
    "    nl = min(na,nb)\n",
    "    opt_h = optimize.minimize_scalar(lambda x: -u(x,c(x),nh)) # first best quality for the highest type\n",
    "    qh = opt_h.x \n",
    "    opt_l = optimize.fminbound(lambda x: -(phi*(u(x,0,nl)-c(x))+(1-phi)*(u(qh,0,nh)-u(x,u(x,0,nl),nh)-c(qh))),0,qh)\n",
    "    ql = opt_l\n",
    "    tl = u(ql,0,nl)\n",
    "    th = u(qh,0,nh)-u(ql,u(ql,0,nl),nh)\n",
    "    return [ql,tl,qh,th]"
   ]
  },
  {
   "cell_type": "markdown",
   "metadata": {},
   "source": [
    "For $\\phi =0.5$, the low type is not served: both $q$ and $t$ are (basically) zero. The high type gets efficient quality $q_b=q_b^*=1.0$ at $t=1.0$.\n",
    "\n",
    "* Why do we find $q_a =0$; a positive profit can be made selling $q_a>0$ at $t_a>0$ to $n_a$?"
   ]
  },
  {
   "cell_type": "code",
   "execution_count": 30,
   "metadata": {
    "collapsed": false
   },
   "outputs": [
    {
     "data": {
      "text/plain": [
       "[5.9608609865491405e-06, 2.9804304932745702e-06, 1.0, 0.99999701956950671]"
      ]
     },
     "execution_count": 30,
     "metadata": {},
     "output_type": "execute_result"
    }
   ],
   "source": [
    "quality_discr(0.5)"
   ]
  },
  {
   "cell_type": "markdown",
   "metadata": {},
   "source": [
    "We can define a function to check whether all constraints are satisfied. In this function, the variables `ira, ica, irb, icb` are booleans. A boolean takes on two values `True` (1) or `False` (0). Using `and` and `or` booleans can be combined.\n",
    "\n",
    "To illustrate, `True and False = False` while `True or False = True`.\n",
    "\n",
    "At $\\phi =0.5$ the menu generated by the function `quality_discr` satisfies all four constraints (as it should):"
   ]
  },
  {
   "cell_type": "code",
   "execution_count": 31,
   "metadata": {
    "collapsed": false
   },
   "outputs": [
    {
     "data": {
      "text/plain": [
       "True"
      ]
     },
     "execution_count": 31,
     "metadata": {},
     "output_type": "execute_result"
    }
   ],
   "source": [
    "def check(menu):\n",
    "    qa = menu[0]\n",
    "    ta = menu[1]\n",
    "    qb = menu[2]\n",
    "    tb = menu[3]\n",
    "    ira = (u(qa,ta,na) >= 0)\n",
    "    ica = (u(qa,ta,na) >= u(qb,tb,na))    \n",
    "    irb = (u(qb,tb,nb) >= 0)\n",
    "    icb = (u(qb,tb,nb) >= u(qa,ta,nb))\n",
    "    return (ira and ica and irb and icb)\n",
    "\n",
    "check(quality_discr(0.5))\n"
   ]
  },
  {
   "cell_type": "markdown",
   "metadata": {},
   "source": [
    "Next we plot the quality level for the low type as a function of $\\phi$."
   ]
  },
  {
   "cell_type": "code",
   "execution_count": 32,
   "metadata": {
    "collapsed": false
   },
   "outputs": [
    {
     "data": {
      "image/png": "[encoded data removed]",
      "text/plain": [
       "<matplotlib.figure.Figure at 0x113641f90>"
      ]
     },
     "metadata": {},
     "output_type": "display_data"
    }
   ],
   "source": [
    "range_phi = arange(0.0,1.01,0.01)\n",
    "range_ql = [quality_discr(phi)[0] for phi in range_phi]\n",
    "\n",
    "plt.clf()\n",
    " \n",
    "plt.plot(range_phi, range_ql,'-', color = 'r', linewidth = 2)\n",
    "\n",
    "plt.title(\"quality low type\",fontsize = 15)\n",
    "plt.xlabel(\"$\\phi$\",fontsize = 15)\n",
    "plt.ylabel(\"quality\",fontsize = 15,rotation = 90)\n",
    "#plt.xlim(0.0,1.0)\n",
    "#plt.ylim(0.0,1.0)\n",
    "plt.savefig('price_discrimination.png')\n"
   ]
  },
  {
   "cell_type": "markdown",
   "metadata": {},
   "source": [
    "* Why is quality for the low type increasing in $\\phi$?\n",
    "* What happens to $q_b$ as a function of $\\phi$?\n",
    "* What is the quality level $q_a$ at $\\phi =1.0$? Why?"
   ]
  },
  {
   "cell_type": "markdown",
   "metadata": {},
   "source": [
    "## welfare\n",
    "\n",
    "Finally, we compare welfare under discrimination and non-discrimination. We plot welfare in each case as a function of $\\phi$. For each $\\phi$ we consider the profit maximizing quality and price chosen by the firm."
   ]
  },
  {
   "cell_type": "code",
   "execution_count": 33,
   "metadata": {
    "collapsed": false
   },
   "outputs": [
    {
     "data": {
      "image/png": "[encoded data removed]",
      "text/plain": [
       "<matplotlib.figure.Figure at 0x1131b1190>"
      ]
     },
     "metadata": {},
     "output_type": "display_data"
    }
   ],
   "source": [
    "range_phi = arange(0.0,1.01,0.01)\n",
    "range_W_non_disrc = [welfare(quality_non_discr(phi)[0],quality_non_discr(phi)[1],quality_non_discr(phi)[0],quality_non_discr(phi)[1],phi) for phi in range_phi]\n",
    "range_W_discr = [welfare(quality_discr(phi)[0],quality_discr(phi)[1],quality_discr(phi)[2],quality_discr(phi)[3],phi) for phi in range_phi]\n",
    "\n",
    "plt.clf()\n",
    " \n",
    "plt.plot(range_phi, range_W_non_disrc,'-', color = 'r', linewidth = 2)\n",
    "plt.plot(range_phi, range_W_discr,'-', color = 'b', linewidth = 2)\n",
    "\n",
    "\n",
    "plt.title(\"Welfare\",fontsize = 15)\n",
    "plt.xlabel(\"$\\phi$\",fontsize = 15)\n",
    "plt.ylabel(\"$W$\",fontsize = 15,rotation = 90)\n",
    "#plt.xlim(0.0,1.0)\n",
    "#plt.ylim(0.0,1.0)\n",
    "plt.savefig('Welfare_price_discrimination.png')"
   ]
  },
  {
   "cell_type": "markdown",
   "metadata": {},
   "source": [
    "* Why do the welfare levels of discrimination and non-discrimination coincide for $\\phi \\leq 0.5$?\n",
    "* Why is welfare higher under discrimination than non-discrimination for $\\phi > 0.5$?\n",
    "* What explains the jump in welfare for the non-discrimination case around $\\phi = 0.75$? What happens here?\n",
    "* Why do the two welfare levels coincide at $\\phi = 1.0$?\n",
    "* What do you think of the European Commision's bias against price discrimination?"
   ]
  },
  {
   "cell_type": "code",
   "execution_count": null,
   "metadata": {
    "collapsed": true
   },
   "outputs": [],
   "source": []
  }
 ],
 "metadata": {
  "anaconda-cloud": {},
  "kernelspec": {
   "display_name": "Python 2",
   "language": "python",
   "name": "python2"
  },
  "language_info": {
   "codemirror_mode": {
    "name": "ipython",
    "version": 2
   },
   "file_extension": ".py",
   "mimetype": "text/x-python",
   "name": "python",
   "nbconvert_exporter": "python",
   "pygments_lexer": "ipython2",
   "version": "2.7.11"
  }
 },
 "nbformat": 4,
 "nbformat_minor": 0
}
