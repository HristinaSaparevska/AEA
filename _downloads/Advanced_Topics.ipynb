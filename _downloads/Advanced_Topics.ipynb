{
 "cells": [
  {
   "cell_type": "markdown",
   "metadata": {},
   "source": [
    "# Advanced topics\n",
    "\n",
    "In this notebook we consider a number of advanced topics:\n",
    "\n",
    "* plotting with [plotly](https://plot.ly/); see [here](https://plot.ly/python/getting-started/) how to get started with plotly and python\n",
    "* handling (big) datasets with [pandas](http://pandas.pydata.org/); pandas also allows you to do econometrics\n",
    "* social media and web scraping"
   ]
  },
  {
   "cell_type": "markdown",
   "metadata": {},
   "source": [
    "# Plotly\n",
    "\n",
    "Matplotlib is a great library in python to make plots. You can basically make any plot that you like; see the [gallery](http://matplotlib.org/gallery.html) for inspiration. However, the plots that you make are \"static\" or \"not interactive\".\n",
    "\n",
    "With plotly you can make interactive plots. That is, while you are giving a presentation, you can adjust the plot: get more information, have new lines and let some lines disappear. Here we give a simple example of how such plots can be made with python. \n",
    "\n",
    "Go to the [plotly](https://plot.ly/) website for more information.\n"
   ]
  },
  {
   "cell_type": "markdown",
   "metadata": {},
   "source": [
    "## Plotting health care expenditure by age group \n",
    "\n",
    "We use here the following [data](http://www.cbs.nl/nl-NL/menu/themas/gezondheid-welzijn/cijfers/incidenteel/maatwerk/zorgkosten-vanuit-de-zorgverzekeringswet-naar-leeftijd-en-huishoudensinkomen-2012.htm) We convert this data to csv and load it as dataframe using pandas (more on pandas below). Costs are in euro's.\n",
    "\n",
    "This data allows us to analyze the relation between health care expenditure, age and income. One expects that people with a higher income spend more money on health care (health is a \"normal good\"). On the other hand, people with higher incomes tend to be healthier and may spend less on health care. Which effect dominates?\n",
    "\n",
    "Further, one would expect that people spend more on health care as they get older. \n",
    "\n",
    "But people usually see their income rise as well with age. Can we show the effect of income and age separately in one graph?\n"
   ]
  },
  {
   "cell_type": "code",
   "execution_count": 1,
   "metadata": {
    "collapsed": false
   },
   "outputs": [
    {
     "name": "stderr",
     "output_type": "stream",
     "text": [
      "//anaconda/envs/py27/lib/python2.7/site-packages/matplotlib/font_manager.py:273: UserWarning:\n",
      "\n",
      "Matplotlib is building the font cache using fc-list. This may take a moment.\n",
      "\n"
     ]
    }
   ],
   "source": [
    "import pandas as pd\n",
    "import plotly.plotly as py\n",
    "from plotly.graph_objs import *\n",
    "import plotly.tools as tls\n",
    "import numpy as np\n",
    "\n",
    "\n",
    "df = pd.read_csv(\"zorgkostenvanuitdezorgverzekeringswetnaarleeftijdenhuishoudensinkomen2012.csv\", \\\n",
    "                 sep=',',skipinitialspace=True, header = 1)"
   ]
  },
  {
   "cell_type": "markdown",
   "metadata": {},
   "source": [
    "If you want to see what this data look like, type `df` in an empty cell and shift-enter."
   ]
  },
  {
   "cell_type": "markdown",
   "metadata": {},
   "source": [
    "The data contains 5 age categories (\"Leeftijdsklasse\" in Dutch) and for each age category we have 5 quintiles of household income (\"Kwintielen huishoudinkomen\").\n",
    "\n",
    "Other columns are deciles of health care expenditures (\"decielen zorgkosten\"), average health care expenditures covered by basic insurance (\"gemiddelde zvw kosten\"), average costs without primary physician (\"gemiddelde kosten excl. huisartsenzorg\"), average costs without primary physician and birth care (\"gemiddelde kosten excl. huisartsenzorg en geboortezorg\"), average household income (\"gemiddeld besteedbaar huishoudensinkomen\") and number of people (\"aantal personen\") per row in the table.\n",
    "\n",
    "To see, for instance, the age categories used and the quantiles, one can use a command like:"
   ]
  },
  {
   "cell_type": "code",
   "execution_count": 2,
   "metadata": {
    "collapsed": false
   },
   "outputs": [
    {
     "name": "stdout",
     "output_type": "stream",
     "text": [
      "['0 t/m 19 jaar', '20 t/m 39 jaar', '40 t/m 59 jaar', '60 t/m 79 jaar', '80 jaar en ouder']\n",
      "['1e kwintiel', '2e kwintiel', '3e kwintiel', '4e kwintiel', '5e kwintiel']\n"
     ]
    }
   ],
   "source": [
    "print [age for age in sorted(set(df['Leeftijdsklasse']))]\n",
    "print [age for age in sorted(set(df['Kwintielen huishoudinkomen']))]\n"
   ]
  },
  {
   "cell_type": "markdown",
   "metadata": {
    "collapsed": false
   },
   "source": [
    "We want to plot health care expenditures against household income. In order to do this, we calculate average household income for each age-income category and the average health care expenditures covered by basic insurance.\n",
    "\n",
    "We create two dictionaries (one for income, one for health care costs). A dictionary contains for each age group, the vector of variables (income, costs resp.) \n"
   ]
  },
  {
   "cell_type": "code",
   "execution_count": 3,
   "metadata": {
    "collapsed": false
   },
   "outputs": [],
   "source": [
    "income_average = {}\n",
    "cost_average = {}\n",
    "for age in sorted(set(df['Leeftijdsklasse'])):\n",
    "    income_average[age] = [np.mean(df[df['Leeftijdsklasse']==age]['Gemiddeld besteedbaar huishoudensinkomen']\\\n",
    "                                   [df['Kwintielen huishoudinkomen']==income]) for income in \\\n",
    "                           sorted(set(df['Kwintielen huishoudinkomen']))]\n",
    "    cost_average[age] =   [np.mean(df[df['Leeftijdsklasse']==age]['Gemiddelde Zvw kosten']\\\n",
    "                                   [df['Kwintielen huishoudinkomen']==income]) for income in \\\n",
    "                           sorted(set(df['Kwintielen huishoudinkomen']))]"
   ]
  },
  {
   "cell_type": "markdown",
   "metadata": {},
   "source": [
    "Plotly works with `Scatter` to combine data and characteristics of the plots (like \"markers+lines\", the text you see when hovering over the plotted line)."
   ]
  },
  {
   "cell_type": "code",
   "execution_count": 5,
   "metadata": {
    "collapsed": false
   },
   "outputs": [
    {
     "data": {
      "text/html": [
       "<iframe id=\"igraph\" scrolling=\"no\" style=\"border:none;\" seamless=\"seamless\" src=\"https://plot.ly/~janboone/56.embed\" height=\"525\" width=\"100%\"></iframe>"
      ],
      "text/plain": [
       "<plotly.tools.PlotlyDisplay object>"
      ]
     },
     "execution_count": 5,
     "metadata": {},
     "output_type": "execute_result"
    }
   ],
   "source": [
    "age0_19 = Scatter(\n",
    "    x=income_average['0 t/m 19 jaar'],\n",
    "    y=cost_average['0 t/m 19 jaar'],\n",
    "    mode='markers+lines', \n",
    "    name = '0 t/m 19 jaar',\n",
    "    text = sorted(set(df['Kwintielen huishoudinkomen']))\n",
    ")\n",
    "age20_39 = Scatter(\n",
    "    x=income_average['20 t/m 39 jaar'],\n",
    "    y=cost_average['20 t/m 39 jaar'],\n",
    "    mode='markers+lines',\n",
    "    name = '20 t/m 39 jaar',\n",
    "    text = sorted(set(df['Kwintielen huishoudinkomen']))\n",
    ")\n",
    "\n",
    "age40_59 = Scatter(\n",
    "    x=income_average['40 t/m 59 jaar'],\n",
    "    y=cost_average['40 t/m 59 jaar'],\n",
    "    mode='markers+lines', \n",
    "    name = '40 t/m 59 jaar',\n",
    "    text = sorted(set(df['Kwintielen huishoudinkomen']))\n",
    ")\n",
    "age60_79 = Scatter(\n",
    "    x=income_average['60 t/m 79 jaar'],\n",
    "    y=cost_average['60 t/m 79 jaar'],\n",
    "    mode='markers+lines',\n",
    "    name = '60 t/m 79 jaar',\n",
    "    text = sorted(set(df['Kwintielen huishoudinkomen']))\n",
    ")\n",
    "age80 = Scatter(\n",
    "    x=income_average['80 jaar en ouder'],\n",
    "    y=cost_average['80 jaar en ouder'],\n",
    "    mode='markers+lines',\n",
    "    name = '80 jaar en ouder',\n",
    "    text = sorted(set(df['Kwintielen huishoudinkomen']))\n",
    ")\n",
    "\n",
    "\n",
    "\n",
    "\n",
    "\n",
    "layout = Layout(\n",
    "    title='Health care expend. vs. income for different age cohorts in the Netherlands 2012',\n",
    "    xaxis=XAxis(\n",
    "        title='income',\n",
    "        titlefont=Font(\n",
    "            family='Courier New, monospace',\n",
    "            size=18,\n",
    "            color='#7f7f7f'\n",
    "        )\n",
    "    ),\n",
    "    yaxis=YAxis(\n",
    "        title='health care expenditure',\n",
    "        titlefont=Font(\n",
    "            family='Courier New, monospace',\n",
    "            size=18,\n",
    "            color='#7f7f7f'\n",
    "        )\n",
    "    )\n",
    ")\n",
    "\n",
    "data = Data([age0_19,age20_39,age40_59,age60_79,age80])\n",
    "fig = Figure(data=data, layout=layout)\n",
    "py.plot(fig, filename='scatter income health care costs')\n",
    "tls.embed(\"https://plot.ly/~janboone/56\")"
   ]
  },
  {
   "cell_type": "markdown",
   "metadata": {
    "collapsed": true
   },
   "source": [
    "By clicking on the legend, you can make lines (dis)appear. By hovering over the lines, you can see more information."
   ]
  },
  {
   "cell_type": "markdown",
   "metadata": {},
   "source": [
    "Coming back to the questions in the beginning:\n",
    "\n",
    "* what is the relation between income and health care expenditure?\n",
    "* between age and health care expenditure?\n",
    "* between age and income?"
   ]
  },
  {
   "cell_type": "markdown",
   "metadata": {
    "collapsed": true
   },
   "source": [
    "# Pandas\n",
    "\n",
    "Go to [this website](https://www.cz.nl/over-cz/inkoop-van-zorg/wat-kost-uw-behandeling-in-het-ziekenhuis) to download the data. Use \"some sort of office program\" to save the file as csv. Use \";\" as separator and delete the euro symbol (as it is sometimes used, but not always).\n",
    "\n",
    "This file is from health insurer CZ. It contains treatment prices that are useful for people to know as they may have to pay these prices out of their deductible. The highest deductible that someone can have (mandatory and voluntary deductible) equals 850 euros. Hence, all treatment prices covered by basic insurance with at least one hospital charging CZ less than 850 for this treatment is in this file. Treatments where all hospitals contracted by CZ charge more than 850 are irrelevant for people: no matter which hospital they choose, they will choose 850 (or less if they do not have a voluntary deductible or have spent some of their deductible already on other treatments).\n",
    "\n",
    "Save this csv file in the same directory as this Jupyter Notebook.\n",
    "\n",
    "The following command reads the file into python. We specify the name of the file, the separator \";\" and indicate that the headers (or variable names) can be found on row 2 (in the way python counts).\n"
   ]
  },
  {
   "cell_type": "code",
   "execution_count": 11,
   "metadata": {
    "collapsed": false
   },
   "outputs": [],
   "source": [
    "df = pd.read_csv('Prijslijst-behandelingen-tot-885-euro-van-gecontracteerde-ziekenhuizen-en-zelfstandige-behandelcentra.csv', sep = \";\",header = 2)"
   ]
  },
  {
   "cell_type": "markdown",
   "metadata": {},
   "source": [
    "To get some idea of the file, let's look at the first couple of rows."
   ]
  },
  {
   "cell_type": "code",
   "execution_count": 12,
   "metadata": {
    "collapsed": false
   },
   "outputs": [
    {
     "data": {
      "text/html": [
       "<div>\n",
       "<table border=\"1\" class=\"dataframe\">\n",
       "  <thead>\n",
       "    <tr style=\"text-align: right;\">\n",
       "      <th></th>\n",
       "      <th>Naam zorgverlener</th>\n",
       "      <th>Plaats zorgverlener</th>\n",
       "      <th>Declaratie code</th>\n",
       "      <th>Zorgproduct</th>\n",
       "      <th>Omschrijving van de verrichting</th>\n",
       "      <th>Gecontracteerd tarief</th>\n",
       "    </tr>\n",
       "  </thead>\n",
       "  <tbody>\n",
       "    <tr>\n",
       "      <th>0</th>\n",
       "      <td>Gynaecologisch Centrum Dermout &amp; Albicher, St....</td>\n",
       "      <td>ALKMAAR</td>\n",
       "      <td>14B194</td>\n",
       "      <td>972804034</td>\n",
       "      <td>1 of 2 polikliniekbezoeken bij verminderde vru...</td>\n",
       "      <td>277.26</td>\n",
       "    </tr>\n",
       "    <tr>\n",
       "      <th>1</th>\n",
       "      <td>Gynaecologisch Centrum Dermout &amp; Albicher, St....</td>\n",
       "      <td>ALKMAAR</td>\n",
       "      <td>14D607</td>\n",
       "      <td>972804040</td>\n",
       "      <td>Dagbehandeling(en) en/of meer dan 2 poliklinie...</td>\n",
       "      <td>621.11</td>\n",
       "    </tr>\n",
       "    <tr>\n",
       "      <th>2</th>\n",
       "      <td>Gynaecologisch Centrum Dermout &amp; Albicher, St....</td>\n",
       "      <td>ALKMAAR</td>\n",
       "      <td>15B243</td>\n",
       "      <td>149999072</td>\n",
       "      <td>Dagbehandeling(en) en/of meer dan 2 poliklinie...</td>\n",
       "      <td>276.38</td>\n",
       "    </tr>\n",
       "    <tr>\n",
       "      <th>3</th>\n",
       "      <td>Gynaecologisch Centrum Dermout &amp; Albicher, St....</td>\n",
       "      <td>ALKMAAR</td>\n",
       "      <td>15B245</td>\n",
       "      <td>149999076</td>\n",
       "      <td>1 of 2 polikliniekbezoeken bij urineverlies/ v...</td>\n",
       "      <td>184.15</td>\n",
       "    </tr>\n",
       "    <tr>\n",
       "      <th>4</th>\n",
       "      <td>Gynaecologisch Centrum Dermout &amp; Albicher, St....</td>\n",
       "      <td>ALKMAAR</td>\n",
       "      <td>15B250</td>\n",
       "      <td>150101007</td>\n",
       "      <td>Dagbehandeling(en) en/of meer dan 2 poliklinie...</td>\n",
       "      <td>500.85</td>\n",
       "    </tr>\n",
       "  </tbody>\n",
       "</table>\n",
       "</div>"
      ],
      "text/plain": [
       "                                   Naam zorgverlener Plaats zorgverlener  \\\n",
       "0  Gynaecologisch Centrum Dermout & Albicher, St....             ALKMAAR   \n",
       "1  Gynaecologisch Centrum Dermout & Albicher, St....             ALKMAAR   \n",
       "2  Gynaecologisch Centrum Dermout & Albicher, St....             ALKMAAR   \n",
       "3  Gynaecologisch Centrum Dermout & Albicher, St....             ALKMAAR   \n",
       "4  Gynaecologisch Centrum Dermout & Albicher, St....             ALKMAAR   \n",
       "\n",
       "  Declaratie code Zorgproduct  \\\n",
       "0          14B194   972804034   \n",
       "1          14D607   972804040   \n",
       "2          15B243   149999072   \n",
       "3          15B245   149999076   \n",
       "4          15B250   150101007   \n",
       "\n",
       "                     Omschrijving van de verrichting Gecontracteerd tarief  \n",
       "0  1 of 2 polikliniekbezoeken bij verminderde vru...                277.26  \n",
       "1  Dagbehandeling(en) en/of meer dan 2 poliklinie...                621.11  \n",
       "2  Dagbehandeling(en) en/of meer dan 2 poliklinie...                276.38  \n",
       "3  1 of 2 polikliniekbezoeken bij urineverlies/ v...                184.15  \n",
       "4  Dagbehandeling(en) en/of meer dan 2 poliklinie...                500.85  "
      ]
     },
     "execution_count": 12,
     "metadata": {},
     "output_type": "execute_result"
    }
   ],
   "source": [
    "df.head()"
   ]
  },
  {
   "cell_type": "markdown",
   "metadata": {},
   "source": [
    "Hence the data gives us:\n",
    "    \n",
    "    * the name of the health care provider\n",
    "    * place where the hospital is\n",
    "    * then there are 3 columns defining the treatment\n",
    "    * finally, the price of the treatment that CZ has to pay the hospital if one of its insured receives this treatment"
   ]
  },
  {
   "cell_type": "code",
   "execution_count": null,
   "metadata": {
    "collapsed": true
   },
   "outputs": [],
   "source": []
  }
 ],
 "metadata": {
  "kernelspec": {
   "display_name": "Python [conda env:py27]",
   "language": "python",
   "name": "conda-env-py27-py"
  },
  "language_info": {
   "codemirror_mode": {
    "name": "ipython",
    "version": 2
   },
   "file_extension": ".py",
   "mimetype": "text/x-python",
   "name": "python",
   "nbconvert_exporter": "python",
   "pygments_lexer": "ipython2",
   "version": "2.7.11"
  }
 },
 "nbformat": 4,
 "nbformat_minor": 0
}
